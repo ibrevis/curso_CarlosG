{
 "cells": [
  {
   "cell_type": "code",
   "execution_count": 1,
   "metadata": {},
   "outputs": [],
   "source": [
    "import numpy as np\n",
    "#####################################\n",
    "import torch\n",
    "import torch.nn as nn\n",
    "#import torch.nn.functional as F\n",
    "from torch import optim, autograd\n",
    "#####################################\n",
    "from matplotlib import pyplot as plt"
   ]
  },
  {
   "cell_type": "markdown",
   "metadata": {},
   "source": [
    "**Radom selection of points in the domain**"
   ]
  },
  {
   "cell_type": "code",
   "execution_count": 2,
   "metadata": {},
   "outputs": [],
   "source": [
    "def get_interior_points(N=64,d=1):\n",
    "    \"\"\"\n",
    "    randomly sample N points from interior of [0,1]^d\n",
    "    \"\"\"\n",
    "    aux = torch.rand(N,d)\n",
    "    return aux"
   ]
  },
  {
   "cell_type": "markdown",
   "metadata": {},
   "source": [
    "**RHS definition**"
   ]
  },
  {
   "cell_type": "code",
   "execution_count": 3,
   "metadata": {},
   "outputs": [],
   "source": [
    "def f_rhs(x):\n",
    "    aux = (np.pi)**2*torch.sin(np.pi*x)\n",
    "    return aux"
   ]
  },
  {
   "cell_type": "markdown",
   "metadata": {},
   "source": [
    "**CPU or GPU usage**"
   ]
  },
  {
   "cell_type": "code",
   "execution_count": 4,
   "metadata": {},
   "outputs": [
    {
     "name": "stdout",
     "output_type": "stream",
     "text": [
      "Is cuda available? True\n",
      "Used device: cpu\n"
     ]
    }
   ],
   "source": [
    "device = 'cpu' #torch.device('cuda' if torch.cuda.is_available() else 'cpu')\n",
    "print('Is cuda available?',torch.cuda.is_available())\n",
    "print('Used device:',device)"
   ]
  },
  {
   "cell_type": "markdown",
   "metadata": {},
   "source": [
    "**Training and ANN parameters**"
   ]
  },
  {
   "cell_type": "code",
   "execution_count": 5,
   "metadata": {},
   "outputs": [],
   "source": [
    "epochs = 50000 #50000\n",
    "\n",
    "in_N = 1\n",
    "m = 10\n",
    "out_N = 1"
   ]
  },
  {
   "cell_type": "markdown",
   "metadata": {},
   "source": [
    "**ANN initialization**"
   ]
  },
  {
   "cell_type": "code",
   "execution_count": 6,
   "metadata": {},
   "outputs": [],
   "source": [
    "torch.manual_seed(42)\n",
    "model = torch.nn.Sequential(\n",
    "    nn.Linear(1,10),\n",
    "    nn.Sigmoid(),\n",
    "    nn.Linear(10,10),\n",
    "    nn.Sigmoid(),\n",
    "    nn.Linear(10,20),\n",
    "    nn.Sigmoid(),    \n",
    "    nn.Linear(20,20),\n",
    "    nn.Sigmoid(),\n",
    "    nn.Linear(20,20),\n",
    "    nn.Sigmoid(),\n",
    "    nn.Linear(20,10),\n",
    "    nn.Sigmoid(),   \n",
    "    nn.Linear(10,1)\n",
    ")\n",
    "#model.state_dict()"
   ]
  },
  {
   "cell_type": "markdown",
   "metadata": {},
   "source": [
    "**Initial weights visualization**"
   ]
  },
  {
   "cell_type": "code",
   "execution_count": 7,
   "metadata": {},
   "outputs": [],
   "source": [
    "#model.state_dict()"
   ]
  },
  {
   "cell_type": "markdown",
   "metadata": {},
   "source": [
    "**Training method**"
   ]
  },
  {
   "cell_type": "code",
   "execution_count": 8,
   "metadata": {},
   "outputs": [],
   "source": [
    "optimizer = optim.Adam(model.parameters(), lr=3e-3)"
   ]
  },
  {
   "cell_type": "markdown",
   "metadata": {},
   "source": [
    "**Training step**"
   ]
  },
  {
   "cell_type": "code",
   "execution_count": 9,
   "metadata": {},
   "outputs": [
    {
     "name": "stdout",
     "output_type": "stream",
     "text": [
      "epoch: 0 \n",
      " loss      : 215.65475463867188 \n",
      " loss int  : 4.22374963760376 \n",
      " loss bound: 0.4228619933128357\n",
      "epoch: 5000 \n",
      " loss      : -2.674551248550415 \n",
      " loss int  : -2.6941986083984375 \n",
      " loss bound: 3.929470767616294e-05\n",
      "epoch: 10000 \n",
      " loss      : -1.6396586894989014 \n",
      " loss int  : -1.7459269762039185 \n",
      " loss bound: 0.00021253645536489785\n",
      "epoch: 15000 \n",
      " loss      : -2.467463254928589 \n",
      " loss int  : -2.4967193603515625 \n",
      " loss bound: 5.851197784068063e-05\n",
      "epoch: 20000 \n",
      " loss      : -2.237473726272583 \n",
      " loss int  : -2.255828857421875 \n",
      " loss bound: 3.671020385809243e-05\n",
      "epoch: 25000 \n",
      " loss      : -3.7110464572906494 \n",
      " loss int  : -3.7193846702575684 \n",
      " loss bound: 1.6676392988301814e-05\n",
      "epoch: 30000 \n",
      " loss      : -2.666591167449951 \n",
      " loss int  : -2.689842462539673 \n",
      " loss bound: 4.650246773962863e-05\n",
      "epoch: 35000 \n",
      " loss      : -1.7519588470458984 \n",
      " loss int  : -1.806675910949707 \n",
      " loss bound: 0.00010943402594421059\n",
      "epoch: 40000 \n",
      " loss      : -1.2756577730178833 \n",
      " loss int  : -1.2883994579315186 \n",
      " loss bound: 2.5483479475951754e-05\n",
      "epoch: 45000 \n",
      " loss      : -3.436279773712158 \n",
      " loss int  : -3.4489121437072754 \n",
      " loss bound: 2.526469324948266e-05\n",
      "epoch: 50000 \n",
      " loss      : -2.375750780105591 \n",
      " loss int  : -2.381465435028076 \n",
      " loss bound: 1.1429135156504344e-05\n",
      "best epoch: 50000 best loss: 2.375750780105591\n"
     ]
    }
   ],
   "source": [
    "best_loss, best_epoch = 1000, 0\n",
    "loss_vector = []\n",
    "for epoch in range(epochs+1):\n",
    "    # Random interior points\n",
    "    x_int = get_interior_points()\n",
    "    # Boundary points (1D case)\n",
    "    x_bound = torch.tensor([[0.],[1.]])\n",
    "    \n",
    "    #\n",
    "    #x_int   = x_int.to(device)   # ?\n",
    "    #x_bound = x_bound.to(device) # ?\n",
    "    # \n",
    "    x_int.requires_grad_()\n",
    "    # ANN evaluation for interior points\n",
    "    output_int = model(x_int)\n",
    "    # ANN evaluation for boundary points\n",
    "    output_bound = model(x_bound)\n",
    "    # Gradient compudation \n",
    "    grads = autograd.grad(outputs=output_int, inputs=x_int,\n",
    "                          grad_outputs=torch.ones_like(output_int),\n",
    "                          create_graph=True, retain_graph=True, only_inputs=True)[0]\n",
    "    # Loss function (1st component)\n",
    "    loss_int = 0.5*torch.pow(grads, 2) - f_rhs(x_int)*output_int\n",
    "    loss_int = torch.mean(loss_int)\n",
    "    # Loss function (2nd component)\n",
    "    loss_bound = torch.mean(torch.pow(output_bound,2))\n",
    "    # Loss function\n",
    "    loss = loss_int + 500*loss_bound\n",
    "    \n",
    "    # Clear previous gradient computation\n",
    "    optimizer.zero_grad()\n",
    "    # Backpropagation\n",
    "    loss.backward()\n",
    "    # ANN's weights update\n",
    "    optimizer.step()\n",
    "    #\n",
    "    loss_vector.append(loss.item())\n",
    "    #\n",
    "    if epoch % 5000 == 0:\n",
    "        print('epoch:', epoch, \n",
    "              '\\n loss      :', loss.item(), \n",
    "              '\\n loss int  :', (loss_int).item(), \n",
    "              '\\n loss bound:', (loss_bound).item())\n",
    "        if epoch > int(4 * epochs / 5):\n",
    "            if torch.abs(loss) < best_loss:\n",
    "                best_loss = torch.abs(loss).item()\n",
    "                best_epoch = epoch\n",
    "                torch.save(model.state_dict(), 'best_approx.mdl')\n",
    "print('best epoch:', best_epoch, 'best loss:', best_loss)"
   ]
  },
  {
   "cell_type": "code",
   "execution_count": 10,
   "metadata": {},
   "outputs": [
    {
     "data": {
      "image/png": "[encoded data removed]",
      "text/plain": [
       "<Figure size 504x432 with 1 Axes>"
      ]
     },
     "metadata": {
      "needs_background": "light"
     },
     "output_type": "display_data"
    }
   ],
   "source": [
    "plt.figure(figsize=(7,6))\n",
    "plt.plot(loss_vector)\n",
    "plt.ylabel('loss')\n",
    "plt.xlabel('Epochs')\n",
    "plt.show()"
   ]
  },
  {
   "cell_type": "markdown",
   "metadata": {},
   "source": [
    "**Loading \"best approximation\" training**"
   ]
  },
  {
   "cell_type": "code",
   "execution_count": 11,
   "metadata": {},
   "outputs": [
    {
     "data": {
      "text/plain": [
       "<All keys matched successfully>"
      ]
     },
     "execution_count": 11,
     "metadata": {},
     "output_type": "execute_result"
    }
   ],
   "source": [
    "model.load_state_dict(torch.load('best_approx.mdl'))"
   ]
  },
  {
   "cell_type": "markdown",
   "metadata": {},
   "source": [
    "**Plotting results**"
   ]
  },
  {
   "cell_type": "code",
   "execution_count": 12,
   "metadata": {},
   "outputs": [],
   "source": [
    "with torch.no_grad():\n",
    "    x1 = torch.linspace(0.,1,100)\n",
    "    x1 = x1.flatten()[:, None]\n",
    "    y_hat = model(x1)\n",
    "    y_real = torch.sin(np.pi*x1)"
   ]
  },
  {
   "cell_type": "code",
   "execution_count": 13,
   "metadata": {},
   "outputs": [
    {
     "data": {
      "text/plain": [
       "<matplotlib.legend.Legend at 0x1a20c442e20>"
      ]
     },
     "execution_count": 13,
     "metadata": {},
     "output_type": "execute_result"
    },
    {
     "data": {
      "image/png": "[encoded data removed]",
      "text/plain": [
       "<Figure size 504x432 with 1 Axes>"
      ]
     },
     "metadata": {
      "needs_background": "light"
     },
     "output_type": "display_data"
    }
   ],
   "source": [
    "plt.figure(figsize=(7,6))\n",
    "plt.plot(x1,y_hat,label='ANN approximation')\n",
    "plt.plot(x1,y_real, label='Analytic sol')\n",
    "#\n",
    "plt.xlim(0,1)\n",
    "plt.ylim(0,None)\n",
    "#\n",
    "plt.legend()"
   ]
  }
 ],
 "metadata": {
  "kernelspec": {
   "display_name": "torch-env",
   "language": "python",
   "name": "torch-env"
  },
  "language_info": {
   "codemirror_mode": {
    "name": "ipython",
    "version": 3
   },
   "file_extension": ".py",
   "mimetype": "text/x-python",
   "name": "python",
   "nbconvert_exporter": "python",
   "pygments_lexer": "ipython3",
   "version": "3.9.6"
  }
 },
 "nbformat": 4,
 "nbformat_minor": 4
}
