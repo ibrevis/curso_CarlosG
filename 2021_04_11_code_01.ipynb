{
 "cells": [
  {
   "cell_type": "code",
   "execution_count": 1,
   "metadata": {},
   "outputs": [],
   "source": [
    "import torch as tr\n",
    "import numpy as np\n",
    "from matplotlib import pyplot as plt\n",
    "#\n",
    "import sys"
   ]
  },
  {
   "cell_type": "code",
   "execution_count": 2,
   "metadata": {},
   "outputs": [
    {
     "name": "stdout",
     "output_type": "stream",
     "text": [
      "python version: 3.9.6 (default, Aug 18 2021, 15:44:49) [MSC v.1916 64 bit (AMD64)]\n",
      "torch version: 1.9.0\n"
     ]
    }
   ],
   "source": [
    "print('python version:',sys.version)\n",
    "print('torch version:',tr.__version__)"
   ]
  },
  {
   "cell_type": "code",
   "execution_count": 3,
   "metadata": {},
   "outputs": [
    {
     "name": "stdout",
     "output_type": "stream",
     "text": [
      "nvcc: NVIDIA (R) Cuda compiler driver\n",
      "Copyright (c) 2005-2021 NVIDIA Corporation\n",
      "Built on Fri_Dec_17_18:28:54_Pacific_Standard_Time_2021\n",
      "Cuda compilation tools, release 11.6, V11.6.55\n",
      "Build cuda_11.6.r11.6/compiler.30794723_0\n"
     ]
    }
   ],
   "source": [
    "!nvcc --version"
   ]
  },
  {
   "cell_type": "code",
   "execution_count": 4,
   "metadata": {},
   "outputs": [],
   "source": [
    "# Number of samples\n",
    "Ns = 20 # 5 10 20\n",
    "# Number of hidden neurons\n",
    "Nn = 10 # 5 7 10\n",
    "# EPOCH\n",
    "EPOCH = 20000"
   ]
  },
  {
   "cell_type": "code",
   "execution_count": 5,
   "metadata": {},
   "outputs": [],
   "source": [
    "def y_func(x):\n",
    "    aux = 200*x**3 - 260*x**2 + 94*x - 7\n",
    "    return aux"
   ]
  },
  {
   "cell_type": "markdown",
   "metadata": {},
   "source": [
    "**ANN definition**"
   ]
  },
  {
   "cell_type": "code",
   "execution_count": 6,
   "metadata": {},
   "outputs": [
    {
     "data": {
      "text/plain": [
       "OrderedDict([('0.weight',\n",
       "              tensor([[ 0.7645],\n",
       "                      [ 0.8300],\n",
       "                      [-0.2343],\n",
       "                      [ 0.9186],\n",
       "                      [-0.2191],\n",
       "                      [ 0.2018],\n",
       "                      [-0.4869],\n",
       "                      [ 0.5873],\n",
       "                      [ 0.8815],\n",
       "                      [-0.7336]])),\n",
       "             ('0.bias',\n",
       "              tensor([ 0.8692,  0.1872,  0.7388,  0.1354,  0.4822, -0.1412,  0.7709,  0.1478,\n",
       "                      -0.4668,  0.2549])),\n",
       "             ('2.weight',\n",
       "              tensor([[-0.1457, -0.0371, -0.1284,  0.2098, -0.2496, -0.1458, -0.0893, -0.1901,\n",
       "                        0.0298, -0.3123]])),\n",
       "             ('2.bias', tensor([0.2856]))])"
      ]
     },
     "execution_count": 6,
     "metadata": {},
     "output_type": "execute_result"
    }
   ],
   "source": [
    "# Fixed initial weights\n",
    "tr.manual_seed(42)\n",
    "# ANN definition\n",
    "ANN = tr.nn.Sequential(\n",
    "    tr.nn.Linear(1,Nn),\n",
    "    tr.nn.Sigmoid(),\n",
    "    #tr.nn.Linear(Nn,Nn),\n",
    "    #tr.nn.Sigmoid(),\n",
    "    tr.nn.Linear(Nn,1)\n",
    ")\n",
    "# See initial weights and ANN structure\n",
    "ANN.state_dict()"
   ]
  },
  {
   "cell_type": "markdown",
   "metadata": {},
   "source": [
    "**Training set**"
   ]
  },
  {
   "cell_type": "code",
   "execution_count": 7,
   "metadata": {},
   "outputs": [
    {
     "data": {
      "text/plain": [
       "(0.0, 1.0)"
      ]
     },
     "execution_count": 7,
     "metadata": {},
     "output_type": "execute_result"
    },
    {
     "data": {
      "image/png": "[encoded data removed]",
      "text/plain": [
       "<Figure size 432x288 with 1 Axes>"
      ]
     },
     "metadata": {
      "needs_background": "light"
     },
     "output_type": "display_data"
    }
   ],
   "source": [
    "X_train = tr.rand(Ns,1)\n",
    "Y_train = y_func(X_train)\n",
    "plt.plot(X_train,Y_train,'o')\n",
    "plt.xlim(0,1)"
   ]
  },
  {
   "cell_type": "code",
   "execution_count": 8,
   "metadata": {},
   "outputs": [],
   "source": [
    "optimizer = tr.optim.Adam(ANN.parameters(), lr=3e-3)"
   ]
  },
  {
   "cell_type": "code",
   "execution_count": 9,
   "metadata": {},
   "outputs": [
    {
     "name": "stdout",
     "output_type": "stream",
     "text": [
      "epoch: 0 loss: 41.33256530761719\n",
      "epoch: 100 loss: 32.14905548095703\n",
      "epoch: 200 loss: 29.90590476989746\n",
      "epoch: 300 loss: 29.271930694580078\n",
      "epoch: 400 loss: 28.507816314697266\n",
      "epoch: 500 loss: 27.46860694885254\n",
      "epoch: 600 loss: 26.12188148498535\n",
      "epoch: 700 loss: 24.54000473022461\n",
      "epoch: 800 loss: 22.88744354248047\n",
      "epoch: 900 loss: 21.331470489501953\n",
      "epoch: 1000 loss: 19.979633331298828\n",
      "epoch: 1100 loss: 18.862503051757812\n",
      "epoch: 1200 loss: 17.948551177978516\n",
      "epoch: 1300 loss: 17.17733383178711\n",
      "epoch: 1400 loss: 16.490324020385742\n",
      "epoch: 1500 loss: 15.845804214477539\n",
      "epoch: 1600 loss: 15.219823837280273\n",
      "epoch: 1700 loss: 14.601460456848145\n",
      "epoch: 1800 loss: 13.98779582977295\n",
      "epoch: 1900 loss: 13.380392074584961\n",
      "epoch: 2000 loss: 12.783023834228516\n",
      "epoch: 2100 loss: 12.200304985046387\n",
      "epoch: 2200 loss: 11.636739730834961\n",
      "epoch: 2300 loss: 11.096071243286133\n",
      "epoch: 2400 loss: 10.580934524536133\n",
      "epoch: 2500 loss: 10.092788696289062\n",
      "epoch: 2600 loss: 9.632071495056152\n",
      "epoch: 2700 loss: 9.198463439941406\n",
      "epoch: 2800 loss: 8.791109085083008\n",
      "epoch: 2900 loss: 8.408576011657715\n",
      "epoch: 3000 loss: 8.048479080200195\n",
      "epoch: 3100 loss: 7.707039833068848\n",
      "epoch: 3200 loss: 7.379116058349609\n",
      "epoch: 3300 loss: 7.059000492095947\n",
      "epoch: 3400 loss: 6.742332458496094\n",
      "epoch: 3500 loss: 6.428413391113281\n",
      "epoch: 3600 loss: 6.120980262756348\n",
      "epoch: 3700 loss: 5.826735973358154\n",
      "epoch: 3800 loss: 5.552961826324463\n",
      "epoch: 3900 loss: 5.305522441864014\n",
      "epoch: 4000 loss: 5.087885856628418\n",
      "epoch: 4100 loss: 4.901037216186523\n",
      "epoch: 4200 loss: 4.74393367767334\n",
      "epoch: 4300 loss: 4.614143371582031\n",
      "epoch: 4400 loss: 4.508446216583252\n",
      "epoch: 4500 loss: 4.423291206359863\n",
      "epoch: 4600 loss: 4.355068683624268\n",
      "epoch: 4700 loss: 4.3001885414123535\n",
      "epoch: 4800 loss: 4.254796028137207\n",
      "epoch: 4900 loss: 4.213627815246582\n",
      "epoch: 5000 loss: 4.165759086608887\n",
      "epoch: 5100 loss: 4.075833320617676\n",
      "epoch: 5200 loss: 3.7921478748321533\n",
      "epoch: 5300 loss: 3.4091620445251465\n",
      "epoch: 5400 loss: 3.1116976737976074\n",
      "epoch: 5500 loss: 2.8321406841278076\n",
      "epoch: 5600 loss: 2.569147825241089\n",
      "epoch: 5700 loss: 2.324941396713257\n",
      "epoch: 5800 loss: 2.1005752086639404\n",
      "epoch: 5900 loss: 1.8961400985717773\n",
      "epoch: 6000 loss: 1.711020827293396\n",
      "epoch: 6100 loss: 1.5441408157348633\n",
      "epoch: 6200 loss: 1.394167184829712\n",
      "epoch: 6300 loss: 1.2596547603607178\n",
      "epoch: 6400 loss: 1.139150857925415\n",
      "epoch: 6500 loss: 1.031263828277588\n",
      "epoch: 6600 loss: 0.9346920847892761\n",
      "epoch: 6700 loss: 0.8482354283332825\n",
      "epoch: 6800 loss: 0.7707833051681519\n",
      "epoch: 6900 loss: 0.7013094425201416\n",
      "epoch: 7000 loss: 0.6388768553733826\n",
      "epoch: 7100 loss: 0.5826426148414612\n",
      "epoch: 7200 loss: 0.5318703055381775\n",
      "epoch: 7300 loss: 0.4859239161014557\n",
      "epoch: 7400 loss: 0.44425350427627563\n",
      "epoch: 7500 loss: 0.40637701749801636\n",
      "epoch: 7600 loss: 0.3718738555908203\n",
      "epoch: 7700 loss: 0.34037482738494873\n",
      "epoch: 7800 loss: 0.3115604817867279\n",
      "epoch: 7900 loss: 0.28515273332595825\n",
      "epoch: 8000 loss: 0.26091259717941284\n",
      "epoch: 8100 loss: 0.2386378049850464\n",
      "epoch: 8200 loss: 0.2181500941514969\n",
      "epoch: 8300 loss: 0.1992959976196289\n",
      "epoch: 8400 loss: 0.18193906545639038\n",
      "epoch: 8500 loss: 0.1659592092037201\n",
      "epoch: 8600 loss: 0.15124717354774475\n",
      "epoch: 8700 loss: 0.13770607113838196\n",
      "epoch: 8800 loss: 0.12524640560150146\n",
      "epoch: 8900 loss: 0.11378759145736694\n",
      "epoch: 9000 loss: 0.1032545417547226\n",
      "epoch: 9100 loss: 0.0935792475938797\n",
      "epoch: 9200 loss: 0.08469881117343903\n",
      "epoch: 9300 loss: 0.07655497640371323\n",
      "epoch: 9400 loss: 0.06909418851137161\n",
      "epoch: 9500 loss: 0.06226665526628494\n",
      "epoch: 9600 loss: 0.056026071310043335\n",
      "epoch: 9700 loss: 0.05032996088266373\n",
      "epoch: 9800 loss: 0.04513833671808243\n",
      "epoch: 9900 loss: 0.04041466861963272\n",
      "epoch: 10000 loss: 0.03612428903579712\n",
      "epoch: 10100 loss: 0.03223513811826706\n",
      "epoch: 10200 loss: 0.028716858476400375\n",
      "epoch: 10300 loss: 0.025541553273797035\n",
      "epoch: 10400 loss: 0.022682568058371544\n",
      "epoch: 10500 loss: 0.020115118473768234\n",
      "epoch: 10600 loss: 0.01781589165329933\n",
      "epoch: 10700 loss: 0.015762636438012123\n",
      "epoch: 10800 loss: 0.013934935443103313\n",
      "epoch: 10900 loss: 0.012312856502830982\n",
      "epoch: 11000 loss: 0.010878178291022778\n",
      "epoch: 11100 loss: 0.009613439440727234\n",
      "epoch: 11200 loss: 0.008502279408276081\n",
      "epoch: 11300 loss: 0.0075295292772352695\n",
      "epoch: 11400 loss: 0.00668069813400507\n",
      "epoch: 11500 loss: 0.0059423851780593395\n",
      "epoch: 11600 loss: 0.005302445963025093\n",
      "epoch: 11700 loss: 0.004748913459479809\n",
      "epoch: 11800 loss: 0.004271422512829304\n",
      "epoch: 11900 loss: 0.0038603164721280336\n",
      "epoch: 12000 loss: 0.00350671773776412\n",
      "epoch: 12100 loss: 0.0032028767745941877\n",
      "epoch: 12200 loss: 0.0029414729215204716\n",
      "epoch: 12300 loss: 0.002716382499784231\n",
      "epoch: 12400 loss: 0.0025221381802111864\n",
      "epoch: 12500 loss: 0.002353839110583067\n",
      "epoch: 12600 loss: 0.0022074710577726364\n",
      "epoch: 12700 loss: 0.002079534810036421\n",
      "epoch: 12800 loss: 0.001966967945918441\n",
      "epoch: 12900 loss: 0.001868142164312303\n",
      "epoch: 13000 loss: 0.0017817544285207987\n",
      "epoch: 13100 loss: 0.0017052956391125917\n",
      "epoch: 13200 loss: 0.0016413104021921754\n",
      "epoch: 13300 loss: 0.0015769607853144407\n",
      "epoch: 13400 loss: 0.0015229424461722374\n",
      "epoch: 13500 loss: 0.0014748361427336931\n",
      "epoch: 13600 loss: 0.0014343209331855178\n",
      "epoch: 13700 loss: 0.0013933482114225626\n",
      "epoch: 13800 loss: 0.0013593512121587992\n",
      "epoch: 13900 loss: 0.0013288947520777583\n",
      "epoch: 14000 loss: 0.001301923068240285\n",
      "epoch: 14100 loss: 0.0012854246888309717\n",
      "epoch: 14200 loss: 0.0012571858242154121\n",
      "epoch: 14300 loss: 0.0012388916220515966\n",
      "epoch: 14400 loss: 0.0012226805556565523\n",
      "epoch: 14500 loss: 0.0012085102498531342\n",
      "epoch: 14600 loss: 0.001200716127641499\n",
      "epoch: 14700 loss: 0.0011849073925986886\n",
      "epoch: 14800 loss: 0.0011751230340451002\n",
      "epoch: 14900 loss: 0.001166445086710155\n",
      "epoch: 15000 loss: 0.0011583217419683933\n",
      "epoch: 15100 loss: 0.0011534764198586345\n",
      "epoch: 15200 loss: 0.0011443316470831633\n",
      "epoch: 15300 loss: 0.001137973740696907\n",
      "epoch: 15400 loss: 0.001131741562858224\n",
      "epoch: 15500 loss: 0.001125925686210394\n",
      "epoch: 15600 loss: 0.0011200226144865155\n",
      "epoch: 15700 loss: 0.0011140999849885702\n",
      "epoch: 15800 loss: 0.001109207863919437\n",
      "epoch: 15900 loss: 0.0011024135164916515\n",
      "epoch: 16000 loss: 0.001096479594707489\n",
      "epoch: 16100 loss: 0.001090392703190446\n",
      "epoch: 16200 loss: 0.00108429160900414\n",
      "epoch: 16300 loss: 0.0010779406875371933\n",
      "epoch: 16400 loss: 0.001071603735908866\n",
      "epoch: 16500 loss: 0.001068474492058158\n",
      "epoch: 16600 loss: 0.0010583719704300165\n",
      "epoch: 16700 loss: 0.0010516506154090166\n",
      "epoch: 16800 loss: 0.0010445743100717664\n",
      "epoch: 16900 loss: 0.0010375097626820207\n",
      "epoch: 17000 loss: 0.0010306473122909665\n",
      "epoch: 17100 loss: 0.0010230343323200941\n",
      "epoch: 17200 loss: 0.0010156205389648676\n",
      "epoch: 17300 loss: 0.001008317107334733\n",
      "epoch: 17400 loss: 0.0010005614021793008\n",
      "epoch: 17500 loss: 0.0009934933623299003\n",
      "epoch: 17600 loss: 0.0009852389339357615\n",
      "epoch: 17700 loss: 0.000978309428319335\n",
      "epoch: 17800 loss: 0.0009695735643617809\n",
      "epoch: 17900 loss: 0.000961698591709137\n",
      "epoch: 18000 loss: 0.0009564018691889942\n",
      "epoch: 18100 loss: 0.000945833045989275\n",
      "epoch: 18200 loss: 0.0009378694230690598\n",
      "epoch: 18300 loss: 0.0009299106895923615\n",
      "epoch: 18400 loss: 0.000922013190574944\n",
      "epoch: 18500 loss: 0.0009141453774645925\n",
      "epoch: 18600 loss: 0.0009062256431207061\n",
      "epoch: 18700 loss: 0.0008998652920126915\n",
      "epoch: 18800 loss: 0.0008905225549824536\n",
      "epoch: 18900 loss: 0.0008827438578009605\n",
      "epoch: 19000 loss: 0.000874946650583297\n",
      "epoch: 19100 loss: 0.000867350201588124\n",
      "epoch: 19200 loss: 0.0008733753929845989\n",
      "epoch: 19300 loss: 0.0008523403666913509\n",
      "epoch: 19400 loss: 0.0008448627777397633\n",
      "epoch: 19500 loss: 0.0008375401375815272\n",
      "epoch: 19600 loss: 0.0008310113335028291\n",
      "epoch: 19700 loss: 0.0008230918901972473\n",
      "epoch: 19800 loss: 0.0008331219432875514\n",
      "epoch: 19900 loss: 0.0008089804905466735\n"
     ]
    }
   ],
   "source": [
    "for epoch in range(EPOCH):\n",
    "    y_hat = ANN(X_train)\n",
    "    loss = tr.mean(tr.pow(y_hat - Y_train,2))\n",
    "    #\n",
    "    optimizer.zero_grad()\n",
    "    #\n",
    "    loss.backward()\n",
    "    #\n",
    "    optimizer.step()\n",
    "    #\n",
    "    if epoch % 100 == 0:\n",
    "        print('epoch:', epoch, 'loss:', loss.item())"
   ]
  },
  {
   "cell_type": "code",
   "execution_count": 10,
   "metadata": {},
   "outputs": [],
   "source": [
    "X_test = tr.reshape(tr.linspace(0,1,100),(100,1))\n",
    "Y_test = y_func(X_test)\n",
    "Y_hat_test = ANN(X_test)"
   ]
  },
  {
   "cell_type": "code",
   "execution_count": 12,
   "metadata": {},
   "outputs": [
    {
     "data": {
      "image/png": "[encoded data removed]",
      "text/plain": [
       "<Figure size 432x432 with 1 Axes>"
      ]
     },
     "metadata": {
      "needs_background": "light"
     },
     "output_type": "display_data"
    }
   ],
   "source": [
    "plt.figure(figsize=(6,6))\n",
    "plt.plot(X_train,Y_train,'o',label='training points')\n",
    "plt.plot(X_test,Y_test,label='y(x)')\n",
    "plt.plot(X_test,Y_hat_test.detach().numpy(),label='ANN prediction')\n",
    "plt.legend()\n",
    "plt.show()"
   ]
  },
  {
   "cell_type": "code",
   "execution_count": null,
   "metadata": {},
   "outputs": [],
   "source": []
  }
 ],
 "metadata": {
  "kernelspec": {
   "display_name": "torch-env",
   "language": "python",
   "name": "torch-env"
  },
  "language_info": {
   "codemirror_mode": {
    "name": "ipython",
    "version": 3
   },
   "file_extension": ".py",
   "mimetype": "text/x-python",
   "name": "python",
   "nbconvert_exporter": "python",
   "pygments_lexer": "ipython3",
   "version": "3.9.6"
  }
 },
 "nbformat": 4,
 "nbformat_minor": 4
}
